{
 "cells": [
  {
   "cell_type": "code",
   "execution_count": 42,
   "metadata": {},
   "outputs": [],
   "source": [
    "import pandas as pd\n",
    "import numpy as np\n",
    "import matplotlib.pyplot as plt\n",
    "import seaborn as sn\n",
    "from keras.models import Sequential\n",
    "from keras.layers import Dense,Flatten,Dropout,Activation\n",
    "from sklearn.model_selection import train_test_split"
   ]
  },
  {
   "cell_type": "markdown",
   "metadata": {},
   "source": [
    "# Loading the dataset:"
   ]
  },
  {
   "cell_type": "code",
   "execution_count": 14,
   "metadata": {},
   "outputs": [
    {
     "data": {
      "text/html": [
       "<div>\n",
       "<style scoped>\n",
       "    .dataframe tbody tr th:only-of-type {\n",
       "        vertical-align: middle;\n",
       "    }\n",
       "\n",
       "    .dataframe tbody tr th {\n",
       "        vertical-align: top;\n",
       "    }\n",
       "\n",
       "    .dataframe thead th {\n",
       "        text-align: right;\n",
       "    }\n",
       "</style>\n",
       "<table border=\"1\" class=\"dataframe\">\n",
       "  <thead>\n",
       "    <tr style=\"text-align: right;\">\n",
       "      <th></th>\n",
       "      <th>A</th>\n",
       "      <th>B</th>\n",
       "      <th>C</th>\n",
       "      <th>Target</th>\n",
       "    </tr>\n",
       "  </thead>\n",
       "  <tbody>\n",
       "    <tr>\n",
       "      <th>0</th>\n",
       "      <td>700</td>\n",
       "      <td>1500</td>\n",
       "      <td>2600</td>\n",
       "      <td>1</td>\n",
       "    </tr>\n",
       "    <tr>\n",
       "      <th>1</th>\n",
       "      <td>550</td>\n",
       "      <td>1550</td>\n",
       "      <td>2400</td>\n",
       "      <td>1</td>\n",
       "    </tr>\n",
       "    <tr>\n",
       "      <th>2</th>\n",
       "      <td>700</td>\n",
       "      <td>1500</td>\n",
       "      <td>2600</td>\n",
       "      <td>1</td>\n",
       "    </tr>\n",
       "    <tr>\n",
       "      <th>3</th>\n",
       "      <td>700</td>\n",
       "      <td>1600</td>\n",
       "      <td>2700</td>\n",
       "      <td>1</td>\n",
       "    </tr>\n",
       "    <tr>\n",
       "      <th>4</th>\n",
       "      <td>550</td>\n",
       "      <td>1600</td>\n",
       "      <td>2600</td>\n",
       "      <td>1</td>\n",
       "    </tr>\n",
       "  </tbody>\n",
       "</table>\n",
       "</div>"
      ],
      "text/plain": [
       "     A     B     C  Target\n",
       "0  700  1500  2600       1\n",
       "1  550  1550  2400       1\n",
       "2  700  1500  2600       1\n",
       "3  700  1600  2700       1\n",
       "4  550  1600  2600       1"
      ]
     },
     "execution_count": 14,
     "metadata": {},
     "output_type": "execute_result"
    }
   ],
   "source": [
    "data=pd.read_csv(\"C:/Deva/Updater_SA_Upgrade/Project-2/data.csv\")\n",
    "data.head()"
   ]
  },
  {
   "cell_type": "markdown",
   "metadata": {},
   "source": [
    "# Cleaning Process"
   ]
  },
  {
   "cell_type": "code",
   "execution_count": 15,
   "metadata": {},
   "outputs": [
    {
     "data": {
      "text/plain": [
       "(871, 4)"
      ]
     },
     "execution_count": 15,
     "metadata": {},
     "output_type": "execute_result"
    }
   ],
   "source": [
    "data.shape"
   ]
  },
  {
   "cell_type": "code",
   "execution_count": 25,
   "metadata": {},
   "outputs": [
    {
     "data": {
      "text/plain": [
       "A         0\n",
       "B         0\n",
       "C         0\n",
       "Target    0\n",
       "dtype: int64"
      ]
     },
     "execution_count": 25,
     "metadata": {},
     "output_type": "execute_result"
    }
   ],
   "source": [
    "\n",
    "data.isnull().sum()"
   ]
  },
  {
   "cell_type": "code",
   "execution_count": 23,
   "metadata": {},
   "outputs": [
    {
     "data": {
      "text/plain": [
       "1     72\n",
       "2     89\n",
       "3    172\n",
       "4    151\n",
       "5    207\n",
       "6    180\n",
       "Name: Target, dtype: int64"
      ]
     },
     "execution_count": 23,
     "metadata": {},
     "output_type": "execute_result"
    }
   ],
   "source": [
    "data[\"Target\"].value_counts().sort_index()"
   ]
  },
  {
   "cell_type": "code",
   "execution_count": 221,
   "metadata": {},
   "outputs": [
    {
     "data": {
      "text/plain": [
       "<matplotlib.axes._subplots.AxesSubplot at 0x2190a06f130>"
      ]
     },
     "execution_count": 221,
     "metadata": {},
     "output_type": "execute_result"
    },
    {
     "data": {
      "image/png": "[encoded data removed]",
      "text/plain": [
       "<Figure size 432x288 with 1 Axes>"
      ]
     },
     "metadata": {
      "needs_background": "light"
     },
     "output_type": "display_data"
    }
   ],
   "source": [
    "sn.countplot(data[\"Target\"])"
   ]
  },
  {
   "cell_type": "markdown",
   "metadata": {},
   "source": [
    "# Exploring the data:"
   ]
  },
  {
   "cell_type": "code",
   "execution_count": 222,
   "metadata": {},
   "outputs": [
    {
     "data": {
      "text/html": [
       "<div>\n",
       "<style scoped>\n",
       "    .dataframe tbody tr th:only-of-type {\n",
       "        vertical-align: middle;\n",
       "    }\n",
       "\n",
       "    .dataframe tbody tr th {\n",
       "        vertical-align: top;\n",
       "    }\n",
       "\n",
       "    .dataframe thead th {\n",
       "        text-align: right;\n",
       "    }\n",
       "</style>\n",
       "<table border=\"1\" class=\"dataframe\">\n",
       "  <thead>\n",
       "    <tr style=\"text-align: right;\">\n",
       "      <th></th>\n",
       "      <th>A</th>\n",
       "      <th>B</th>\n",
       "      <th>C</th>\n",
       "      <th>Target</th>\n",
       "    </tr>\n",
       "  </thead>\n",
       "  <tbody>\n",
       "    <tr>\n",
       "      <th>count</th>\n",
       "      <td>871.000000</td>\n",
       "      <td>871.000000</td>\n",
       "      <td>871.000000</td>\n",
       "      <td>871.000000</td>\n",
       "    </tr>\n",
       "    <tr>\n",
       "      <th>mean</th>\n",
       "      <td>470.482204</td>\n",
       "      <td>1514.684271</td>\n",
       "      <td>2561.021814</td>\n",
       "      <td>4.001148</td>\n",
       "    </tr>\n",
       "    <tr>\n",
       "      <th>std</th>\n",
       "      <td>129.222242</td>\n",
       "      <td>507.581247</td>\n",
       "      <td>244.541773</td>\n",
       "      <td>1.554748</td>\n",
       "    </tr>\n",
       "    <tr>\n",
       "      <th>min</th>\n",
       "      <td>250.000000</td>\n",
       "      <td>700.000000</td>\n",
       "      <td>1800.000000</td>\n",
       "      <td>1.000000</td>\n",
       "    </tr>\n",
       "    <tr>\n",
       "      <th>25%</th>\n",
       "      <td>350.000000</td>\n",
       "      <td>1050.000000</td>\n",
       "      <td>2360.000000</td>\n",
       "      <td>3.000000</td>\n",
       "    </tr>\n",
       "    <tr>\n",
       "      <th>50%</th>\n",
       "      <td>450.000000</td>\n",
       "      <td>1350.000000</td>\n",
       "      <td>2600.000000</td>\n",
       "      <td>4.000000</td>\n",
       "    </tr>\n",
       "    <tr>\n",
       "      <th>75%</th>\n",
       "      <td>550.000000</td>\n",
       "      <td>2000.000000</td>\n",
       "      <td>2700.000000</td>\n",
       "      <td>5.000000</td>\n",
       "    </tr>\n",
       "    <tr>\n",
       "      <th>max</th>\n",
       "      <td>900.000000</td>\n",
       "      <td>2550.000000</td>\n",
       "      <td>3200.000000</td>\n",
       "      <td>6.000000</td>\n",
       "    </tr>\n",
       "  </tbody>\n",
       "</table>\n",
       "</div>"
      ],
      "text/plain": [
       "                A            B            C      Target\n",
       "count  871.000000   871.000000   871.000000  871.000000\n",
       "mean   470.482204  1514.684271  2561.021814    4.001148\n",
       "std    129.222242   507.581247   244.541773    1.554748\n",
       "min    250.000000   700.000000  1800.000000    1.000000\n",
       "25%    350.000000  1050.000000  2360.000000    3.000000\n",
       "50%    450.000000  1350.000000  2600.000000    4.000000\n",
       "75%    550.000000  2000.000000  2700.000000    5.000000\n",
       "max    900.000000  2550.000000  3200.000000    6.000000"
      ]
     },
     "execution_count": 222,
     "metadata": {},
     "output_type": "execute_result"
    }
   ],
   "source": [
    "data.describe()"
   ]
  },
  {
   "cell_type": "code",
   "execution_count": 223,
   "metadata": {},
   "outputs": [
    {
     "data": {
      "text/plain": [
       "1     72\n",
       "2     89\n",
       "3    172\n",
       "4    151\n",
       "5    207\n",
       "6    180\n",
       "Name: Target, dtype: int64"
      ]
     },
     "execution_count": 223,
     "metadata": {},
     "output_type": "execute_result"
    }
   ],
   "source": [
    "data[\"Target\"].value_counts().sort_index()"
   ]
  },
  {
   "cell_type": "code",
   "execution_count": 237,
   "metadata": {},
   "outputs": [],
   "source": [
    "features_mean=list(data.columns[0:3])\n",
    "One=data[data['Target'] ==1]\n",
    "Two=data[data['Target'] ==2]\n",
    "Three=data[data['Target'] ==3]\n",
    "Four=data[data['Target'] ==4]\n",
    "Five=data[data['Target'] ==5]\n",
    "Six=data[data['Target'] ==6]"
   ]
  },
  {
   "cell_type": "code",
   "execution_count": 240,
   "metadata": {},
   "outputs": [
    {
     "data": {
      "image/png": "[encoded data removed]",
      "text/plain": [
       "<Figure size 432x720 with 3 Axes>"
      ]
     },
     "metadata": {
      "needs_background": "light"
     },
     "output_type": "display_data"
    }
   ],
   "source": [
    "plt.rcParams.update({'font.size': 8})\n",
    "fig, axes = plt.subplots(nrows=3, ncols=1, figsize=(6,10))\n",
    "axes = axes.ravel()\n",
    "for idx,ax in enumerate(axes):\n",
    "    ax.figure\n",
    "    binwidth= (max(data[features_mean[idx]]) - min(data[features_mean[idx]]))/50\n",
    "    ax.hist([One[features_mean[idx]],Two[features_mean[idx]],Three[features_mean[idx]],Four[features_mean[idx]],Five[features_mean[idx]],Six[features_mean[idx]]], bins=np.arange(min(data[features_mean[idx]]), max(data[features_mean[idx]]) + binwidth, binwidth) , alpha=0.5,stacked=True, label=[\"One\",\"Two\",\"Three\",\"Four\",\"Five\",\"Six\"],color=['r','g',\"blue\",\"grey\",\"brown\",\"lightcoral\"])\n",
    "    ax.legend(loc='upper right')\n",
    "    ax.set_title(features_mean[idx],fontdict={\"weight\":\"bold\"})\n",
    "plt.tight_layout()\n",
    "plt.show()"
   ]
  },
  {
   "cell_type": "markdown",
   "metadata": {},
   "source": [
    "# Spliting the data to Train and Test:"
   ]
  },
  {
   "cell_type": "code",
   "execution_count": 26,
   "metadata": {},
   "outputs": [
    {
     "data": {
      "text/html": [
       "<div>\n",
       "<style scoped>\n",
       "    .dataframe tbody tr th:only-of-type {\n",
       "        vertical-align: middle;\n",
       "    }\n",
       "\n",
       "    .dataframe tbody tr th {\n",
       "        vertical-align: top;\n",
       "    }\n",
       "\n",
       "    .dataframe thead th {\n",
       "        text-align: right;\n",
       "    }\n",
       "</style>\n",
       "<table border=\"1\" class=\"dataframe\">\n",
       "  <thead>\n",
       "    <tr style=\"text-align: right;\">\n",
       "      <th></th>\n",
       "      <th>A</th>\n",
       "      <th>B</th>\n",
       "      <th>C</th>\n",
       "      <th>Target</th>\n",
       "    </tr>\n",
       "  </thead>\n",
       "  <tbody>\n",
       "    <tr>\n",
       "      <th>0</th>\n",
       "      <td>700</td>\n",
       "      <td>1500</td>\n",
       "      <td>2600</td>\n",
       "      <td>1</td>\n",
       "    </tr>\n",
       "    <tr>\n",
       "      <th>1</th>\n",
       "      <td>550</td>\n",
       "      <td>1550</td>\n",
       "      <td>2400</td>\n",
       "      <td>1</td>\n",
       "    </tr>\n",
       "    <tr>\n",
       "      <th>2</th>\n",
       "      <td>700</td>\n",
       "      <td>1500</td>\n",
       "      <td>2600</td>\n",
       "      <td>1</td>\n",
       "    </tr>\n",
       "    <tr>\n",
       "      <th>3</th>\n",
       "      <td>700</td>\n",
       "      <td>1600</td>\n",
       "      <td>2700</td>\n",
       "      <td>1</td>\n",
       "    </tr>\n",
       "    <tr>\n",
       "      <th>4</th>\n",
       "      <td>550</td>\n",
       "      <td>1600</td>\n",
       "      <td>2600</td>\n",
       "      <td>1</td>\n",
       "    </tr>\n",
       "  </tbody>\n",
       "</table>\n",
       "</div>"
      ],
      "text/plain": [
       "     A     B     C  Target\n",
       "0  700  1500  2600       1\n",
       "1  550  1550  2400       1\n",
       "2  700  1500  2600       1\n",
       "3  700  1600  2700       1\n",
       "4  550  1600  2600       1"
      ]
     },
     "execution_count": 26,
     "metadata": {},
     "output_type": "execute_result"
    }
   ],
   "source": [
    "data.head()"
   ]
  },
  {
   "cell_type": "code",
   "execution_count": 27,
   "metadata": {},
   "outputs": [],
   "source": [
    "x=data.drop([\"Target\"],1)\n",
    "y=data[\"Target\"]"
   ]
  },
  {
   "cell_type": "code",
   "execution_count": 113,
   "metadata": {},
   "outputs": [],
   "source": [
    "x_train,x_test,Y_train,Y_test=train_test_split(x,y,test_size=0.30,random_state=1)"
   ]
  },
  {
   "cell_type": "code",
   "execution_count": 30,
   "metadata": {},
   "outputs": [],
   "source": [
    "x_train,x_test,y_train,y_test=train_test_split(x,y,test_size=0.30,random_state=1)"
   ]
  },
  {
   "cell_type": "markdown",
   "metadata": {},
   "source": [
    "As the dataset is considered as Multiclassification output so we have to categories the output variable:"
   ]
  },
  {
   "cell_type": "code",
   "execution_count": 31,
   "metadata": {},
   "outputs": [],
   "source": [
    "from keras.utils import to_categorical\n",
    "y_train=to_categorical(y_train)\n",
    "y_test=to_categorical(y_test)"
   ]
  },
  {
   "cell_type": "markdown",
   "metadata": {},
   "source": [
    "# Building the Model:"
   ]
  },
  {
   "cell_type": "code",
   "execution_count": 104,
   "metadata": {},
   "outputs": [
    {
     "name": "stdout",
     "output_type": "stream",
     "text": [
      "Epoch 1/250\n",
      "122/122 [==============================] - 0s 3ms/step - loss: 26.3103 - accuracy: 0.3941 - val_loss: 10.3258 - val_accuracy: 0.5649\n",
      "Epoch 2/250\n",
      "122/122 [==============================] - 0s 2ms/step - loss: 13.6340 - accuracy: 0.5238 - val_loss: 2.5328 - val_accuracy: 0.6527\n",
      "Epoch 3/250\n",
      "122/122 [==============================] - 0s 2ms/step - loss: 6.4893 - accuracy: 0.6240 - val_loss: 4.5904 - val_accuracy: 0.5573\n",
      "Epoch 4/250\n",
      "122/122 [==============================] - 0s 2ms/step - loss: 4.8484 - accuracy: 0.6535 - val_loss: 3.9498 - val_accuracy: 0.5802\n",
      "Epoch 5/250\n",
      "122/122 [==============================] - 0s 2ms/step - loss: 7.1268 - accuracy: 0.6338 - val_loss: 10.8376 - val_accuracy: 0.4656\n",
      "Epoch 6/250\n",
      "122/122 [==============================] - 0s 2ms/step - loss: 8.4269 - accuracy: 0.6223 - val_loss: 10.8030 - val_accuracy: 0.5115\n",
      "Epoch 7/250\n",
      "122/122 [==============================] - 0s 2ms/step - loss: 5.4847 - accuracy: 0.6814 - val_loss: 11.2923 - val_accuracy: 0.5802\n",
      "Epoch 8/250\n",
      "122/122 [==============================] - 0s 2ms/step - loss: 4.9261 - accuracy: 0.6913 - val_loss: 4.8956 - val_accuracy: 0.7137\n",
      "Epoch 9/250\n",
      "122/122 [==============================] - 0s 2ms/step - loss: 3.3886 - accuracy: 0.7143 - val_loss: 2.5702 - val_accuracy: 0.7443\n",
      "Epoch 10/250\n",
      "122/122 [==============================] - 0s 2ms/step - loss: 4.2851 - accuracy: 0.7044 - val_loss: 3.2457 - val_accuracy: 0.7137\n",
      "Epoch 11/250\n",
      "122/122 [==============================] - 0s 2ms/step - loss: 4.2349 - accuracy: 0.7011 - val_loss: 3.9581 - val_accuracy: 0.7099\n",
      "Epoch 12/250\n",
      "122/122 [==============================] - 0s 2ms/step - loss: 4.3215 - accuracy: 0.7028 - val_loss: 2.8799 - val_accuracy: 0.7443\n",
      "Epoch 13/250\n",
      "122/122 [==============================] - 0s 2ms/step - loss: 3.6825 - accuracy: 0.7126 - val_loss: 3.3554 - val_accuracy: 0.7023\n",
      "Epoch 14/250\n",
      "122/122 [==============================] - 0s 2ms/step - loss: 3.4119 - accuracy: 0.6962 - val_loss: 3.4570 - val_accuracy: 0.6756\n",
      "Epoch 15/250\n",
      "122/122 [==============================] - 0s 2ms/step - loss: 3.3162 - accuracy: 0.6749 - val_loss: 2.0089 - val_accuracy: 0.7443\n",
      "Epoch 16/250\n",
      "122/122 [==============================] - 0s 2ms/step - loss: 3.1817 - accuracy: 0.7176 - val_loss: 4.0445 - val_accuracy: 0.6145\n",
      "Epoch 17/250\n",
      "122/122 [==============================] - 0s 2ms/step - loss: 3.0434 - accuracy: 0.7061 - val_loss: 3.0902 - val_accuracy: 0.7443\n",
      "Epoch 18/250\n",
      "122/122 [==============================] - 0s 2ms/step - loss: 2.7770 - accuracy: 0.7389 - val_loss: 2.2204 - val_accuracy: 0.7481\n",
      "Epoch 19/250\n",
      "122/122 [==============================] - 0s 2ms/step - loss: 2.5200 - accuracy: 0.7340 - val_loss: 2.7532 - val_accuracy: 0.6527\n",
      "Epoch 20/250\n",
      "122/122 [==============================] - 0s 2ms/step - loss: 1.8570 - accuracy: 0.7438 - val_loss: 1.6255 - val_accuracy: 0.7214\n",
      "Epoch 21/250\n",
      "122/122 [==============================] - 0s 2ms/step - loss: 1.4000 - accuracy: 0.7635 - val_loss: 2.3669 - val_accuracy: 0.6336\n",
      "Epoch 22/250\n",
      "122/122 [==============================] - 0s 2ms/step - loss: 2.1017 - accuracy: 0.7471 - val_loss: 3.4016 - val_accuracy: 0.6641\n",
      "Epoch 23/250\n",
      "122/122 [==============================] - 0s 2ms/step - loss: 1.8813 - accuracy: 0.7438 - val_loss: 1.9415 - val_accuracy: 0.6298\n",
      "Epoch 24/250\n",
      "122/122 [==============================] - 0s 2ms/step - loss: 1.3797 - accuracy: 0.7323 - val_loss: 1.3701 - val_accuracy: 0.7176\n",
      "Epoch 25/250\n",
      "122/122 [==============================] - 0s 2ms/step - loss: 1.2108 - accuracy: 0.7340 - val_loss: 2.1009 - val_accuracy: 0.6489\n",
      "Epoch 26/250\n",
      "122/122 [==============================] - 0s 2ms/step - loss: 1.7194 - accuracy: 0.7094 - val_loss: 1.3672 - val_accuracy: 0.7023\n",
      "Epoch 27/250\n",
      "122/122 [==============================] - 0s 2ms/step - loss: 1.1952 - accuracy: 0.7570 - val_loss: 2.2707 - val_accuracy: 0.6870\n",
      "Epoch 28/250\n",
      "122/122 [==============================] - 0s 2ms/step - loss: 1.1739 - accuracy: 0.7422 - val_loss: 1.2682 - val_accuracy: 0.7405\n",
      "Epoch 29/250\n",
      "122/122 [==============================] - 0s 2ms/step - loss: 1.2371 - accuracy: 0.7570 - val_loss: 0.9222 - val_accuracy: 0.7939\n",
      "Epoch 30/250\n",
      "122/122 [==============================] - 0s 2ms/step - loss: 1.0542 - accuracy: 0.7783 - val_loss: 1.5345 - val_accuracy: 0.6565\n",
      "Epoch 31/250\n",
      "122/122 [==============================] - 0s 2ms/step - loss: 1.0452 - accuracy: 0.7734 - val_loss: 0.9915 - val_accuracy: 0.7176\n",
      "Epoch 32/250\n",
      "122/122 [==============================] - 0s 2ms/step - loss: 0.9121 - accuracy: 0.7603 - val_loss: 2.2267 - val_accuracy: 0.6489\n",
      "Epoch 33/250\n",
      "122/122 [==============================] - 0s 2ms/step - loss: 1.1834 - accuracy: 0.7553 - val_loss: 4.0115 - val_accuracy: 0.6183\n",
      "Epoch 34/250\n",
      "122/122 [==============================] - 0s 2ms/step - loss: 1.1834 - accuracy: 0.7603 - val_loss: 1.2352 - val_accuracy: 0.7252\n",
      "Epoch 35/250\n",
      "122/122 [==============================] - 0s 2ms/step - loss: 0.9534 - accuracy: 0.7701 - val_loss: 1.3253 - val_accuracy: 0.6031\n",
      "Epoch 36/250\n",
      "122/122 [==============================] - 0s 2ms/step - loss: 1.0071 - accuracy: 0.7685 - val_loss: 1.4026 - val_accuracy: 0.7252\n",
      "Epoch 37/250\n",
      "122/122 [==============================] - 0s 2ms/step - loss: 0.8816 - accuracy: 0.7586 - val_loss: 1.0629 - val_accuracy: 0.7595\n",
      "Epoch 38/250\n",
      "122/122 [==============================] - 0s 2ms/step - loss: 0.8755 - accuracy: 0.7701 - val_loss: 1.1300 - val_accuracy: 0.7710\n",
      "Epoch 39/250\n",
      "122/122 [==============================] - 0s 1ms/step - loss: 0.7970 - accuracy: 0.7816 - val_loss: 0.9137 - val_accuracy: 0.7786\n",
      "Epoch 40/250\n",
      "122/122 [==============================] - 0s 2ms/step - loss: 0.7346 - accuracy: 0.7882 - val_loss: 1.0052 - val_accuracy: 0.7366\n",
      "Epoch 41/250\n",
      "122/122 [==============================] - 0s 2ms/step - loss: 0.7747 - accuracy: 0.7652 - val_loss: 1.0252 - val_accuracy: 0.6450\n",
      "Epoch 42/250\n",
      "122/122 [==============================] - 0s 2ms/step - loss: 0.6462 - accuracy: 0.7865 - val_loss: 0.8351 - val_accuracy: 0.7214\n",
      "Epoch 43/250\n",
      "122/122 [==============================] - 0s 2ms/step - loss: 0.6326 - accuracy: 0.8030 - val_loss: 0.8962 - val_accuracy: 0.7099\n",
      "Epoch 44/250\n",
      "122/122 [==============================] - 0s 2ms/step - loss: 0.6142 - accuracy: 0.7997 - val_loss: 1.3254 - val_accuracy: 0.7366\n",
      "Epoch 45/250\n",
      "122/122 [==============================] - 0s 2ms/step - loss: 0.7120 - accuracy: 0.7833 - val_loss: 0.9913 - val_accuracy: 0.7939\n",
      "Epoch 46/250\n",
      "122/122 [==============================] - 0s 2ms/step - loss: 0.8850 - accuracy: 0.7504 - val_loss: 1.0612 - val_accuracy: 0.6679\n",
      "Epoch 47/250\n",
      "122/122 [==============================] - 0s 2ms/step - loss: 0.6938 - accuracy: 0.7734 - val_loss: 0.7414 - val_accuracy: 0.7595\n",
      "Epoch 48/250\n",
      "122/122 [==============================] - 0s 2ms/step - loss: 0.6165 - accuracy: 0.7783 - val_loss: 1.1360 - val_accuracy: 0.7595\n",
      "Epoch 49/250\n",
      "122/122 [==============================] - 0s 2ms/step - loss: 0.6505 - accuracy: 0.7767 - val_loss: 0.9040 - val_accuracy: 0.7290\n",
      "Epoch 50/250\n",
      "122/122 [==============================] - 0s 2ms/step - loss: 0.8057 - accuracy: 0.7504 - val_loss: 1.0705 - val_accuracy: 0.6794\n",
      "Epoch 51/250\n",
      "122/122 [==============================] - 0s 2ms/step - loss: 0.7576 - accuracy: 0.7635 - val_loss: 0.7613 - val_accuracy: 0.7595\n",
      "Epoch 52/250\n",
      "122/122 [==============================] - 0s 2ms/step - loss: 0.6195 - accuracy: 0.7882 - val_loss: 1.0599 - val_accuracy: 0.7099\n",
      "Epoch 53/250\n",
      "122/122 [==============================] - 0s 2ms/step - loss: 0.6644 - accuracy: 0.7586 - val_loss: 0.6634 - val_accuracy: 0.7672\n",
      "Epoch 54/250\n",
      "122/122 [==============================] - 0s 1ms/step - loss: 0.5366 - accuracy: 0.8046 - val_loss: 0.8009 - val_accuracy: 0.7252\n",
      "Epoch 55/250\n",
      "122/122 [==============================] - 0s 2ms/step - loss: 0.6126 - accuracy: 0.8013 - val_loss: 0.8124 - val_accuracy: 0.7328\n",
      "Epoch 56/250\n",
      "122/122 [==============================] - 0s 2ms/step - loss: 0.6225 - accuracy: 0.7603 - val_loss: 1.0675 - val_accuracy: 0.7137\n",
      "Epoch 57/250\n",
      "122/122 [==============================] - 0s 1ms/step - loss: 0.7296 - accuracy: 0.7619 - val_loss: 0.6415 - val_accuracy: 0.7672\n",
      "Epoch 58/250\n",
      "122/122 [==============================] - 0s 1ms/step - loss: 0.5961 - accuracy: 0.7947 - val_loss: 0.8369 - val_accuracy: 0.7634\n",
      "Epoch 59/250\n",
      "122/122 [==============================] - 0s 2ms/step - loss: 0.5700 - accuracy: 0.7898 - val_loss: 0.7474 - val_accuracy: 0.7366\n",
      "Epoch 60/250\n",
      "122/122 [==============================] - 0s 2ms/step - loss: 0.6035 - accuracy: 0.7767 - val_loss: 0.5729 - val_accuracy: 0.7977\n",
      "Epoch 61/250\n",
      "122/122 [==============================] - 0s 2ms/step - loss: 0.6120 - accuracy: 0.7898 - val_loss: 0.6342 - val_accuracy: 0.7901\n",
      "Epoch 62/250\n",
      "122/122 [==============================] - 0s 2ms/step - loss: 0.5554 - accuracy: 0.7947 - val_loss: 0.7993 - val_accuracy: 0.7252\n",
      "Epoch 63/250\n",
      "122/122 [==============================] - 0s 2ms/step - loss: 0.5853 - accuracy: 0.7882 - val_loss: 0.7970 - val_accuracy: 0.7481\n",
      "Epoch 64/250\n",
      "122/122 [==============================] - 0s 1ms/step - loss: 0.5769 - accuracy: 0.8030 - val_loss: 1.0638 - val_accuracy: 0.6794\n",
      "Epoch 65/250\n",
      "122/122 [==============================] - 0s 2ms/step - loss: 0.5133 - accuracy: 0.8079 - val_loss: 0.9693 - val_accuracy: 0.7481\n",
      "Epoch 66/250\n",
      "122/122 [==============================] - 0s 1ms/step - loss: 0.5420 - accuracy: 0.8046 - val_loss: 0.7598 - val_accuracy: 0.7405\n",
      "Epoch 67/250\n",
      "122/122 [==============================] - 0s 1ms/step - loss: 0.5767 - accuracy: 0.7898 - val_loss: 0.6915 - val_accuracy: 0.7977\n",
      "Epoch 68/250\n",
      "122/122 [==============================] - 0s 2ms/step - loss: 0.5631 - accuracy: 0.8194 - val_loss: 0.6519 - val_accuracy: 0.7595\n",
      "Epoch 69/250\n",
      "122/122 [==============================] - 0s 2ms/step - loss: 0.5665 - accuracy: 0.8095 - val_loss: 0.6275 - val_accuracy: 0.8168\n",
      "Epoch 70/250\n",
      "122/122 [==============================] - 0s 2ms/step - loss: 0.5560 - accuracy: 0.7865 - val_loss: 0.6560 - val_accuracy: 0.7443\n",
      "Epoch 71/250\n",
      "122/122 [==============================] - 0s 2ms/step - loss: 0.5488 - accuracy: 0.7931 - val_loss: 0.7715 - val_accuracy: 0.7443\n",
      "Epoch 72/250\n",
      "122/122 [==============================] - 0s 1ms/step - loss: 0.6741 - accuracy: 0.7652 - val_loss: 0.5725 - val_accuracy: 0.8168\n",
      "Epoch 73/250\n",
      "122/122 [==============================] - 0s 1ms/step - loss: 0.5787 - accuracy: 0.7800 - val_loss: 0.5747 - val_accuracy: 0.7901\n",
      "Epoch 74/250\n",
      "122/122 [==============================] - 0s 2ms/step - loss: 0.4906 - accuracy: 0.8161 - val_loss: 0.8394 - val_accuracy: 0.7252\n",
      "Epoch 75/250\n",
      "122/122 [==============================] - 0s 1ms/step - loss: 0.5980 - accuracy: 0.7865 - val_loss: 0.6847 - val_accuracy: 0.7557\n",
      "Epoch 76/250\n",
      "122/122 [==============================] - 0s 2ms/step - loss: 0.5681 - accuracy: 0.7915 - val_loss: 0.6285 - val_accuracy: 0.7901\n",
      "Epoch 77/250\n",
      "122/122 [==============================] - 0s 2ms/step - loss: 0.5360 - accuracy: 0.8128 - val_loss: 0.5743 - val_accuracy: 0.7824\n",
      "Epoch 78/250\n",
      "122/122 [==============================] - 0s 2ms/step - loss: 0.5757 - accuracy: 0.7980 - val_loss: 0.7174 - val_accuracy: 0.7557\n",
      "Epoch 79/250\n",
      "122/122 [==============================] - 0s 2ms/step - loss: 0.5182 - accuracy: 0.8210 - val_loss: 0.7362 - val_accuracy: 0.7099\n",
      "Epoch 80/250\n",
      "122/122 [==============================] - 0s 2ms/step - loss: 0.5268 - accuracy: 0.8046 - val_loss: 0.6190 - val_accuracy: 0.7672\n",
      "Epoch 81/250\n",
      "122/122 [==============================] - 0s 2ms/step - loss: 0.5509 - accuracy: 0.7849 - val_loss: 0.6876 - val_accuracy: 0.7443\n",
      "Epoch 82/250\n",
      "122/122 [==============================] - 0s 1ms/step - loss: 0.5005 - accuracy: 0.8177 - val_loss: 0.8127 - val_accuracy: 0.6908\n",
      "Epoch 83/250\n",
      "122/122 [==============================] - 0s 2ms/step - loss: 0.6547 - accuracy: 0.7603 - val_loss: 0.5775 - val_accuracy: 0.7710\n",
      "Epoch 84/250\n",
      "122/122 [==============================] - 0s 2ms/step - loss: 0.5707 - accuracy: 0.7980 - val_loss: 0.5793 - val_accuracy: 0.7901\n",
      "Epoch 85/250\n",
      "122/122 [==============================] - 0s 2ms/step - loss: 0.5280 - accuracy: 0.7980 - val_loss: 0.7218 - val_accuracy: 0.6947\n",
      "Epoch 86/250\n",
      "122/122 [==============================] - 0s 2ms/step - loss: 0.5222 - accuracy: 0.8095 - val_loss: 0.5536 - val_accuracy: 0.7595\n",
      "Epoch 87/250\n",
      "122/122 [==============================] - 0s 1ms/step - loss: 0.4875 - accuracy: 0.8161 - val_loss: 0.6262 - val_accuracy: 0.7939\n",
      "Epoch 88/250\n",
      "122/122 [==============================] - 0s 2ms/step - loss: 0.5740 - accuracy: 0.7800 - val_loss: 0.7907 - val_accuracy: 0.7137\n",
      "Epoch 89/250\n",
      "122/122 [==============================] - 0s 2ms/step - loss: 0.5492 - accuracy: 0.8030 - val_loss: 0.6136 - val_accuracy: 0.7786\n",
      "Epoch 90/250\n",
      "122/122 [==============================] - 0s 1ms/step - loss: 0.5424 - accuracy: 0.8062 - val_loss: 0.5769 - val_accuracy: 0.7443\n",
      "Epoch 91/250\n",
      "122/122 [==============================] - 0s 2ms/step - loss: 0.4940 - accuracy: 0.8144 - val_loss: 0.6815 - val_accuracy: 0.7366\n",
      "Epoch 92/250\n",
      "122/122 [==============================] - 0s 2ms/step - loss: 0.4998 - accuracy: 0.8161 - val_loss: 0.6150 - val_accuracy: 0.7863\n",
      "Epoch 93/250\n",
      "122/122 [==============================] - 0s 2ms/step - loss: 0.5137 - accuracy: 0.8062 - val_loss: 0.9152 - val_accuracy: 0.6870\n",
      "Epoch 94/250\n",
      "122/122 [==============================] - 0s 2ms/step - loss: 0.5389 - accuracy: 0.8046 - val_loss: 0.6186 - val_accuracy: 0.7405\n",
      "Epoch 95/250\n",
      "122/122 [==============================] - 0s 2ms/step - loss: 0.5068 - accuracy: 0.8210 - val_loss: 0.5820 - val_accuracy: 0.7595\n",
      "Epoch 96/250\n",
      "122/122 [==============================] - 0s 2ms/step - loss: 0.4844 - accuracy: 0.8161 - val_loss: 0.5762 - val_accuracy: 0.7863\n",
      "Epoch 97/250\n",
      "122/122 [==============================] - 0s 2ms/step - loss: 0.5261 - accuracy: 0.8079 - val_loss: 0.5913 - val_accuracy: 0.7519\n",
      "Epoch 98/250\n",
      "122/122 [==============================] - 0s 1ms/step - loss: 0.5186 - accuracy: 0.8210 - val_loss: 0.5294 - val_accuracy: 0.7977\n",
      "Epoch 99/250\n",
      "122/122 [==============================] - 0s 2ms/step - loss: 0.4898 - accuracy: 0.8079 - val_loss: 0.6286 - val_accuracy: 0.7786\n",
      "Epoch 100/250\n",
      "122/122 [==============================] - 0s 2ms/step - loss: 0.6038 - accuracy: 0.7882 - val_loss: 0.5807 - val_accuracy: 0.7824\n",
      "Epoch 101/250\n",
      "122/122 [==============================] - 0s 2ms/step - loss: 0.5278 - accuracy: 0.7915 - val_loss: 0.5711 - val_accuracy: 0.7672\n",
      "Epoch 102/250\n",
      "122/122 [==============================] - 0s 2ms/step - loss: 0.5018 - accuracy: 0.8177 - val_loss: 0.5206 - val_accuracy: 0.8015\n",
      "Epoch 103/250\n",
      "122/122 [==============================] - 0s 2ms/step - loss: 0.5095 - accuracy: 0.8144 - val_loss: 0.6329 - val_accuracy: 0.7519\n",
      "Epoch 104/250\n",
      "122/122 [==============================] - 0s 2ms/step - loss: 0.5281 - accuracy: 0.8079 - val_loss: 0.5891 - val_accuracy: 0.7710\n",
      "Epoch 105/250\n",
      "122/122 [==============================] - 0s 2ms/step - loss: 0.4814 - accuracy: 0.8227 - val_loss: 0.5414 - val_accuracy: 0.7901\n",
      "Epoch 106/250\n",
      "122/122 [==============================] - 0s 2ms/step - loss: 0.4890 - accuracy: 0.8177 - val_loss: 0.6764 - val_accuracy: 0.7595\n",
      "Epoch 107/250\n",
      "122/122 [==============================] - 0s 1ms/step - loss: 0.5511 - accuracy: 0.7668 - val_loss: 0.5884 - val_accuracy: 0.7748\n",
      "Epoch 108/250\n",
      "122/122 [==============================] - 0s 2ms/step - loss: 0.5025 - accuracy: 0.8276 - val_loss: 0.6206 - val_accuracy: 0.7786\n",
      "Epoch 109/250\n",
      "122/122 [==============================] - 0s 2ms/step - loss: 0.4874 - accuracy: 0.8292 - val_loss: 0.5788 - val_accuracy: 0.7939\n",
      "Epoch 110/250\n",
      "122/122 [==============================] - 0s 2ms/step - loss: 0.4722 - accuracy: 0.8128 - val_loss: 0.5390 - val_accuracy: 0.7939\n",
      "Epoch 111/250\n",
      "122/122 [==============================] - 0s 2ms/step - loss: 0.4723 - accuracy: 0.8177 - val_loss: 0.6774 - val_accuracy: 0.7443\n",
      "Epoch 112/250\n",
      "122/122 [==============================] - 0s 1ms/step - loss: 0.4725 - accuracy: 0.8194 - val_loss: 0.6952 - val_accuracy: 0.7557\n",
      "Epoch 113/250\n",
      "122/122 [==============================] - 0s 2ms/step - loss: 0.4789 - accuracy: 0.8161 - val_loss: 0.6708 - val_accuracy: 0.7405\n",
      "Epoch 114/250\n",
      "122/122 [==============================] - 0s 2ms/step - loss: 0.4888 - accuracy: 0.8210 - val_loss: 0.5707 - val_accuracy: 0.7748\n",
      "Epoch 115/250\n",
      "122/122 [==============================] - 0s 2ms/step - loss: 0.5052 - accuracy: 0.8128 - val_loss: 0.6665 - val_accuracy: 0.7290\n",
      "Epoch 116/250\n",
      "122/122 [==============================] - 0s 2ms/step - loss: 0.4822 - accuracy: 0.8161 - val_loss: 0.9208 - val_accuracy: 0.7176\n",
      "Epoch 117/250\n",
      "122/122 [==============================] - 0s 2ms/step - loss: 0.4591 - accuracy: 0.8342 - val_loss: 0.6182 - val_accuracy: 0.7252\n",
      "Epoch 118/250\n",
      "122/122 [==============================] - 0s 2ms/step - loss: 0.4932 - accuracy: 0.8227 - val_loss: 0.6249 - val_accuracy: 0.7672\n",
      "Epoch 119/250\n",
      "122/122 [==============================] - 0s 2ms/step - loss: 0.4642 - accuracy: 0.8292 - val_loss: 0.6814 - val_accuracy: 0.7328\n",
      "Epoch 120/250\n",
      "122/122 [==============================] - 0s 2ms/step - loss: 0.4582 - accuracy: 0.8325 - val_loss: 0.5450 - val_accuracy: 0.7901\n",
      "Epoch 121/250\n",
      "122/122 [==============================] - 0s 1ms/step - loss: 0.4752 - accuracy: 0.8210 - val_loss: 0.5479 - val_accuracy: 0.8053\n",
      "Epoch 122/250\n",
      "122/122 [==============================] - 0s 1ms/step - loss: 0.4696 - accuracy: 0.8243 - val_loss: 0.6159 - val_accuracy: 0.7557\n",
      "Epoch 123/250\n",
      "122/122 [==============================] - 0s 2ms/step - loss: 0.4832 - accuracy: 0.8292 - val_loss: 0.5773 - val_accuracy: 0.7786\n",
      "Epoch 124/250\n",
      "122/122 [==============================] - 0s 2ms/step - loss: 0.4569 - accuracy: 0.8407 - val_loss: 0.8599 - val_accuracy: 0.6679\n",
      "Epoch 125/250\n",
      "122/122 [==============================] - 0s 2ms/step - loss: 0.4975 - accuracy: 0.8030 - val_loss: 0.5895 - val_accuracy: 0.7863\n",
      "Epoch 126/250\n",
      "122/122 [==============================] - 0s 1ms/step - loss: 0.4645 - accuracy: 0.8292 - val_loss: 0.5613 - val_accuracy: 0.7786\n",
      "Epoch 127/250\n",
      "122/122 [==============================] - 0s 2ms/step - loss: 0.4726 - accuracy: 0.8177 - val_loss: 0.5286 - val_accuracy: 0.7939\n",
      "Epoch 128/250\n",
      "122/122 [==============================] - 0s 2ms/step - loss: 0.4962 - accuracy: 0.8046 - val_loss: 0.5450 - val_accuracy: 0.7824\n",
      "Epoch 129/250\n",
      "122/122 [==============================] - 0s 2ms/step - loss: 0.4771 - accuracy: 0.8325 - val_loss: 0.5501 - val_accuracy: 0.7824\n",
      "Epoch 130/250\n",
      "122/122 [==============================] - 0s 1ms/step - loss: 0.4967 - accuracy: 0.8046 - val_loss: 0.5540 - val_accuracy: 0.7672\n",
      "Epoch 131/250\n",
      "122/122 [==============================] - 0s 2ms/step - loss: 0.4363 - accuracy: 0.8489 - val_loss: 0.5320 - val_accuracy: 0.7824\n",
      "Epoch 132/250\n",
      "122/122 [==============================] - 0s 2ms/step - loss: 0.4423 - accuracy: 0.8358 - val_loss: 0.5993 - val_accuracy: 0.7824\n",
      "Epoch 133/250\n",
      "122/122 [==============================] - 0s 2ms/step - loss: 0.4697 - accuracy: 0.8259 - val_loss: 0.5769 - val_accuracy: 0.7595\n",
      "Epoch 134/250\n",
      "122/122 [==============================] - 0s 2ms/step - loss: 0.4554 - accuracy: 0.8243 - val_loss: 0.5754 - val_accuracy: 0.7901\n",
      "Epoch 135/250\n",
      "122/122 [==============================] - 0s 2ms/step - loss: 0.4792 - accuracy: 0.8177 - val_loss: 0.5518 - val_accuracy: 0.7672\n",
      "Epoch 136/250\n",
      "122/122 [==============================] - 0s 2ms/step - loss: 0.4533 - accuracy: 0.8424 - val_loss: 0.5416 - val_accuracy: 0.8092\n",
      "Epoch 137/250\n",
      "122/122 [==============================] - 0s 1ms/step - loss: 0.4772 - accuracy: 0.8194 - val_loss: 0.5736 - val_accuracy: 0.7863\n",
      "Epoch 138/250\n",
      "122/122 [==============================] - 0s 1ms/step - loss: 0.4958 - accuracy: 0.8243 - val_loss: 0.5827 - val_accuracy: 0.7977\n",
      "Epoch 139/250\n",
      "122/122 [==============================] - 0s 2ms/step - loss: 0.4812 - accuracy: 0.8194 - val_loss: 0.5981 - val_accuracy: 0.7672\n",
      "Epoch 140/250\n",
      "122/122 [==============================] - 0s 1ms/step - loss: 0.4582 - accuracy: 0.8276 - val_loss: 0.5832 - val_accuracy: 0.7863\n",
      "Epoch 141/250\n",
      "122/122 [==============================] - 0s 2ms/step - loss: 0.4386 - accuracy: 0.8292 - val_loss: 0.6059 - val_accuracy: 0.7672\n",
      "Epoch 142/250\n",
      "122/122 [==============================] - 0s 2ms/step - loss: 0.4594 - accuracy: 0.8210 - val_loss: 0.5648 - val_accuracy: 0.7901\n",
      "Epoch 143/250\n",
      "122/122 [==============================] - 0s 1ms/step - loss: 0.4465 - accuracy: 0.8391 - val_loss: 0.5229 - val_accuracy: 0.7786\n",
      "Epoch 144/250\n",
      "122/122 [==============================] - 0s 2ms/step - loss: 0.4433 - accuracy: 0.8407 - val_loss: 0.5410 - val_accuracy: 0.7977\n",
      "Epoch 145/250\n",
      "122/122 [==============================] - 0s 2ms/step - loss: 0.4414 - accuracy: 0.8325 - val_loss: 0.5823 - val_accuracy: 0.7824\n",
      "Epoch 146/250\n",
      "122/122 [==============================] - 0s 2ms/step - loss: 0.4613 - accuracy: 0.8243 - val_loss: 0.5791 - val_accuracy: 0.7824\n",
      "Epoch 147/250\n",
      "122/122 [==============================] - 0s 2ms/step - loss: 0.4609 - accuracy: 0.8309 - val_loss: 0.5335 - val_accuracy: 0.7901\n",
      "Epoch 148/250\n",
      "122/122 [==============================] - 0s 2ms/step - loss: 0.4227 - accuracy: 0.8309 - val_loss: 0.5364 - val_accuracy: 0.7977\n",
      "Epoch 149/250\n",
      "122/122 [==============================] - 0s 2ms/step - loss: 0.4428 - accuracy: 0.8227 - val_loss: 0.5458 - val_accuracy: 0.7672\n",
      "Epoch 150/250\n",
      "122/122 [==============================] - 0s 2ms/step - loss: 0.4696 - accuracy: 0.8243 - val_loss: 0.6530 - val_accuracy: 0.7328\n",
      "Epoch 151/250\n",
      "122/122 [==============================] - 0s 2ms/step - loss: 0.4809 - accuracy: 0.8128 - val_loss: 0.5389 - val_accuracy: 0.8206\n",
      "Epoch 152/250\n",
      "122/122 [==============================] - 0s 2ms/step - loss: 0.4758 - accuracy: 0.8276 - val_loss: 0.6820 - val_accuracy: 0.7710\n",
      "Epoch 153/250\n",
      "122/122 [==============================] - 0s 2ms/step - loss: 0.4606 - accuracy: 0.8325 - val_loss: 0.5199 - val_accuracy: 0.8168\n",
      "Epoch 154/250\n",
      "122/122 [==============================] - 0s 2ms/step - loss: 0.4811 - accuracy: 0.8194 - val_loss: 0.5591 - val_accuracy: 0.7939\n",
      "Epoch 155/250\n",
      "122/122 [==============================] - 0s 1ms/step - loss: 0.4367 - accuracy: 0.8325 - val_loss: 0.5293 - val_accuracy: 0.8015\n",
      "Epoch 156/250\n",
      "122/122 [==============================] - 0s 1ms/step - loss: 0.4305 - accuracy: 0.8276 - val_loss: 0.5369 - val_accuracy: 0.8053\n",
      "Epoch 157/250\n",
      "122/122 [==============================] - 0s 1ms/step - loss: 0.4324 - accuracy: 0.8325 - val_loss: 0.6136 - val_accuracy: 0.7710\n",
      "Epoch 158/250\n",
      "122/122 [==============================] - 0s 2ms/step - loss: 0.4427 - accuracy: 0.8342 - val_loss: 0.5552 - val_accuracy: 0.7977\n",
      "Epoch 159/250\n",
      "122/122 [==============================] - ETA: 0s - loss: 0.4989 - accuracy: 0.80 - 0s 2ms/step - loss: 0.5077 - accuracy: 0.8161 - val_loss: 0.5724 - val_accuracy: 0.7824\n",
      "Epoch 160/250\n",
      "122/122 [==============================] - 0s 1ms/step - loss: 0.4893 - accuracy: 0.8095 - val_loss: 0.5502 - val_accuracy: 0.7634\n",
      "Epoch 161/250\n",
      "122/122 [==============================] - 0s 2ms/step - loss: 0.4622 - accuracy: 0.8177 - val_loss: 0.5662 - val_accuracy: 0.7824\n",
      "Epoch 162/250\n",
      "122/122 [==============================] - 0s 1ms/step - loss: 0.4635 - accuracy: 0.8210 - val_loss: 0.5377 - val_accuracy: 0.8015\n",
      "Epoch 163/250\n",
      "122/122 [==============================] - 0s 2ms/step - loss: 0.4325 - accuracy: 0.8342 - val_loss: 0.5516 - val_accuracy: 0.7939\n",
      "Epoch 164/250\n",
      "122/122 [==============================] - 0s 2ms/step - loss: 0.4324 - accuracy: 0.8440 - val_loss: 0.5657 - val_accuracy: 0.8053\n",
      "Epoch 165/250\n",
      "122/122 [==============================] - 0s 1ms/step - loss: 0.4334 - accuracy: 0.8358 - val_loss: 0.5537 - val_accuracy: 0.7939\n",
      "Epoch 166/250\n",
      "122/122 [==============================] - 0s 2ms/step - loss: 0.4281 - accuracy: 0.8440 - val_loss: 0.6101 - val_accuracy: 0.7672\n",
      "Epoch 167/250\n",
      "122/122 [==============================] - 0s 2ms/step - loss: 0.4370 - accuracy: 0.8325 - val_loss: 0.5323 - val_accuracy: 0.8053\n",
      "Epoch 168/250\n",
      "122/122 [==============================] - 0s 1ms/step - loss: 0.4053 - accuracy: 0.8440 - val_loss: 0.5734 - val_accuracy: 0.7824\n",
      "Epoch 169/250\n",
      "122/122 [==============================] - 0s 1ms/step - loss: 0.4503 - accuracy: 0.8374 - val_loss: 0.5340 - val_accuracy: 0.7901\n",
      "Epoch 170/250\n",
      "122/122 [==============================] - 0s 2ms/step - loss: 0.4211 - accuracy: 0.8407 - val_loss: 0.5911 - val_accuracy: 0.7786\n",
      "Epoch 171/250\n",
      "122/122 [==============================] - 0s 2ms/step - loss: 0.4348 - accuracy: 0.8309 - val_loss: 0.5455 - val_accuracy: 0.8053\n",
      "Epoch 172/250\n",
      "122/122 [==============================] - 0s 2ms/step - loss: 0.4288 - accuracy: 0.8473 - val_loss: 0.6943 - val_accuracy: 0.7481\n",
      "Epoch 173/250\n",
      "122/122 [==============================] - 0s 2ms/step - loss: 0.4329 - accuracy: 0.8407 - val_loss: 0.5891 - val_accuracy: 0.7901\n",
      "Epoch 174/250\n",
      "122/122 [==============================] - 0s 1ms/step - loss: 0.4388 - accuracy: 0.8309 - val_loss: 0.5180 - val_accuracy: 0.8015\n",
      "Epoch 175/250\n",
      "122/122 [==============================] - 0s 2ms/step - loss: 0.4248 - accuracy: 0.8440 - val_loss: 0.5815 - val_accuracy: 0.7710\n",
      "Epoch 176/250\n",
      "122/122 [==============================] - 0s 2ms/step - loss: 0.4388 - accuracy: 0.8456 - val_loss: 0.5334 - val_accuracy: 0.7786\n",
      "Epoch 177/250\n",
      "122/122 [==============================] - 0s 2ms/step - loss: 0.4377 - accuracy: 0.8424 - val_loss: 0.5360 - val_accuracy: 0.7672\n",
      "Epoch 178/250\n",
      "122/122 [==============================] - 0s 2ms/step - loss: 0.4435 - accuracy: 0.8259 - val_loss: 0.6383 - val_accuracy: 0.7595\n",
      "Epoch 179/250\n",
      "122/122 [==============================] - 0s 2ms/step - loss: 0.4335 - accuracy: 0.8424 - val_loss: 0.7730 - val_accuracy: 0.7099\n",
      "Epoch 180/250\n",
      "122/122 [==============================] - 0s 2ms/step - loss: 0.4715 - accuracy: 0.8259 - val_loss: 0.5799 - val_accuracy: 0.7786\n",
      "Epoch 181/250\n",
      "122/122 [==============================] - 0s 2ms/step - loss: 0.4493 - accuracy: 0.8342 - val_loss: 0.5106 - val_accuracy: 0.8130\n",
      "Epoch 182/250\n",
      "122/122 [==============================] - 0s 1ms/step - loss: 0.4245 - accuracy: 0.8424 - val_loss: 0.5824 - val_accuracy: 0.7824\n",
      "Epoch 183/250\n",
      "122/122 [==============================] - 0s 1ms/step - loss: 0.4274 - accuracy: 0.8358 - val_loss: 0.5582 - val_accuracy: 0.7748\n",
      "Epoch 184/250\n",
      "122/122 [==============================] - 0s 1ms/step - loss: 0.4345 - accuracy: 0.8407 - val_loss: 0.5304 - val_accuracy: 0.8092\n",
      "Epoch 185/250\n",
      "122/122 [==============================] - 0s 2ms/step - loss: 0.4112 - accuracy: 0.8424 - val_loss: 0.5537 - val_accuracy: 0.8053\n",
      "Epoch 186/250\n",
      "122/122 [==============================] - 0s 2ms/step - loss: 0.4191 - accuracy: 0.8424 - val_loss: 0.5420 - val_accuracy: 0.8015\n",
      "Epoch 187/250\n",
      "122/122 [==============================] - 0s 2ms/step - loss: 0.4624 - accuracy: 0.8292 - val_loss: 0.6482 - val_accuracy: 0.7443\n",
      "Epoch 188/250\n",
      "122/122 [==============================] - 0s 1ms/step - loss: 0.4304 - accuracy: 0.8391 - val_loss: 0.5214 - val_accuracy: 0.8015\n",
      "Epoch 189/250\n",
      "122/122 [==============================] - 0s 2ms/step - loss: 0.4399 - accuracy: 0.8374 - val_loss: 0.5750 - val_accuracy: 0.7824\n",
      "Epoch 190/250\n",
      "122/122 [==============================] - 0s 2ms/step - loss: 0.4068 - accuracy: 0.8407 - val_loss: 0.5453 - val_accuracy: 0.7977\n",
      "Epoch 191/250\n",
      "122/122 [==============================] - 0s 2ms/step - loss: 0.4271 - accuracy: 0.8424 - val_loss: 0.5176 - val_accuracy: 0.7863\n",
      "Epoch 192/250\n",
      "122/122 [==============================] - 0s 2ms/step - loss: 0.3990 - accuracy: 0.8522 - val_loss: 0.5292 - val_accuracy: 0.8053\n",
      "Epoch 193/250\n",
      "122/122 [==============================] - 0s 2ms/step - loss: 0.4369 - accuracy: 0.8358 - val_loss: 0.5209 - val_accuracy: 0.8015\n",
      "Epoch 194/250\n",
      "122/122 [==============================] - 0s 2ms/step - loss: 0.4554 - accuracy: 0.8342 - val_loss: 0.5574 - val_accuracy: 0.8053\n",
      "Epoch 195/250\n",
      "122/122 [==============================] - 0s 2ms/step - loss: 0.4050 - accuracy: 0.8407 - val_loss: 0.5362 - val_accuracy: 0.8053\n",
      "Epoch 196/250\n",
      "122/122 [==============================] - 0s 2ms/step - loss: 0.3956 - accuracy: 0.8522 - val_loss: 0.5537 - val_accuracy: 0.7710\n",
      "Epoch 197/250\n",
      "122/122 [==============================] - 0s 2ms/step - loss: 0.4477 - accuracy: 0.8227 - val_loss: 0.6025 - val_accuracy: 0.7786\n",
      "Epoch 198/250\n",
      "122/122 [==============================] - 0s 2ms/step - loss: 0.4255 - accuracy: 0.8276 - val_loss: 0.6730 - val_accuracy: 0.7405\n",
      "Epoch 199/250\n",
      "122/122 [==============================] - 0s 2ms/step - loss: 0.4661 - accuracy: 0.8276 - val_loss: 0.5464 - val_accuracy: 0.8130\n",
      "Epoch 200/250\n",
      "122/122 [==============================] - 0s 1ms/step - loss: 0.4196 - accuracy: 0.8407 - val_loss: 0.5481 - val_accuracy: 0.8053\n",
      "Epoch 201/250\n",
      "122/122 [==============================] - 0s 2ms/step - loss: 0.4239 - accuracy: 0.8424 - val_loss: 0.6158 - val_accuracy: 0.7977\n",
      "Epoch 202/250\n",
      "122/122 [==============================] - 0s 2ms/step - loss: 0.4177 - accuracy: 0.8424 - val_loss: 0.5447 - val_accuracy: 0.7863\n",
      "Epoch 203/250\n",
      "122/122 [==============================] - 0s 2ms/step - loss: 0.4056 - accuracy: 0.8506 - val_loss: 0.5596 - val_accuracy: 0.7863\n",
      "Epoch 204/250\n",
      "122/122 [==============================] - 0s 2ms/step - loss: 0.4358 - accuracy: 0.8292 - val_loss: 0.5592 - val_accuracy: 0.8015\n",
      "Epoch 205/250\n",
      "122/122 [==============================] - 0s 2ms/step - loss: 0.4378 - accuracy: 0.8309 - val_loss: 0.5142 - val_accuracy: 0.8130\n",
      "Epoch 206/250\n",
      "122/122 [==============================] - 0s 2ms/step - loss: 0.4083 - accuracy: 0.8506 - val_loss: 0.6085 - val_accuracy: 0.7939\n",
      "Epoch 207/250\n",
      "122/122 [==============================] - 0s 2ms/step - loss: 0.4823 - accuracy: 0.8177 - val_loss: 0.5948 - val_accuracy: 0.7824\n",
      "Epoch 208/250\n",
      "122/122 [==============================] - 0s 2ms/step - loss: 0.4179 - accuracy: 0.8407 - val_loss: 0.5859 - val_accuracy: 0.7939\n",
      "Epoch 209/250\n",
      "122/122 [==============================] - 0s 2ms/step - loss: 0.4193 - accuracy: 0.8309 - val_loss: 0.5305 - val_accuracy: 0.7939\n",
      "Epoch 210/250\n",
      "122/122 [==============================] - 0s 2ms/step - loss: 0.4165 - accuracy: 0.8555 - val_loss: 0.6271 - val_accuracy: 0.7786\n",
      "Epoch 211/250\n",
      "122/122 [==============================] - 0s 2ms/step - loss: 0.4070 - accuracy: 0.8424 - val_loss: 0.5798 - val_accuracy: 0.7824\n",
      "Epoch 212/250\n",
      "122/122 [==============================] - 0s 2ms/step - loss: 0.4024 - accuracy: 0.8456 - val_loss: 0.5590 - val_accuracy: 0.8168\n",
      "Epoch 213/250\n",
      "122/122 [==============================] - 0s 2ms/step - loss: 0.4059 - accuracy: 0.8456 - val_loss: 0.6395 - val_accuracy: 0.7519\n",
      "Epoch 214/250\n",
      "122/122 [==============================] - 0s 2ms/step - loss: 0.4132 - accuracy: 0.8424 - val_loss: 0.5414 - val_accuracy: 0.8053\n",
      "Epoch 215/250\n",
      "122/122 [==============================] - 0s 2ms/step - loss: 0.4050 - accuracy: 0.8522 - val_loss: 0.5307 - val_accuracy: 0.7977\n",
      "Epoch 216/250\n",
      "122/122 [==============================] - 0s 2ms/step - loss: 0.4576 - accuracy: 0.8177 - val_loss: 0.5928 - val_accuracy: 0.7863\n",
      "Epoch 217/250\n",
      "122/122 [==============================] - 0s 2ms/step - loss: 0.4091 - accuracy: 0.8391 - val_loss: 0.5502 - val_accuracy: 0.8130\n",
      "Epoch 218/250\n",
      "122/122 [==============================] - 0s 2ms/step - loss: 0.4049 - accuracy: 0.8522 - val_loss: 0.5653 - val_accuracy: 0.8130\n",
      "Epoch 219/250\n",
      "122/122 [==============================] - 0s 2ms/step - loss: 0.4090 - accuracy: 0.8473 - val_loss: 0.5544 - val_accuracy: 0.7977\n",
      "Epoch 220/250\n",
      "122/122 [==============================] - 0s 2ms/step - loss: 0.4011 - accuracy: 0.8473 - val_loss: 0.5430 - val_accuracy: 0.8206\n",
      "Epoch 221/250\n",
      "122/122 [==============================] - 0s 2ms/step - loss: 0.4059 - accuracy: 0.8473 - val_loss: 0.5668 - val_accuracy: 0.7824\n",
      "Epoch 222/250\n",
      "122/122 [==============================] - 0s 3ms/step - loss: 0.4124 - accuracy: 0.8374 - val_loss: 0.6509 - val_accuracy: 0.7366\n",
      "Epoch 223/250\n",
      "122/122 [==============================] - 0s 2ms/step - loss: 0.4296 - accuracy: 0.8292 - val_loss: 0.5176 - val_accuracy: 0.8092\n",
      "Epoch 224/250\n",
      "122/122 [==============================] - 0s 2ms/step - loss: 0.4152 - accuracy: 0.8374 - val_loss: 0.5395 - val_accuracy: 0.8015\n",
      "Epoch 225/250\n",
      "122/122 [==============================] - 0s 2ms/step - loss: 0.4090 - accuracy: 0.8473 - val_loss: 0.7968 - val_accuracy: 0.7176\n",
      "Epoch 226/250\n",
      "122/122 [==============================] - 0s 2ms/step - loss: 0.4483 - accuracy: 0.8424 - val_loss: 0.5379 - val_accuracy: 0.7863\n",
      "Epoch 227/250\n",
      "122/122 [==============================] - 0s 2ms/step - loss: 0.4058 - accuracy: 0.8424 - val_loss: 0.5715 - val_accuracy: 0.7748\n",
      "Epoch 228/250\n",
      "122/122 [==============================] - 0s 2ms/step - loss: 0.3792 - accuracy: 0.8571 - val_loss: 0.5535 - val_accuracy: 0.8092\n",
      "Epoch 229/250\n",
      "122/122 [==============================] - 0s 2ms/step - loss: 0.3997 - accuracy: 0.8539 - val_loss: 0.5112 - val_accuracy: 0.8168\n",
      "Epoch 230/250\n",
      "122/122 [==============================] - 0s 2ms/step - loss: 0.3805 - accuracy: 0.8654 - val_loss: 0.5666 - val_accuracy: 0.8053\n",
      "Epoch 231/250\n",
      "122/122 [==============================] - 0s 2ms/step - loss: 0.4159 - accuracy: 0.8456 - val_loss: 0.5532 - val_accuracy: 0.8092\n",
      "Epoch 232/250\n",
      "122/122 [==============================] - 0s 2ms/step - loss: 0.3982 - accuracy: 0.8588 - val_loss: 0.5726 - val_accuracy: 0.7939\n",
      "Epoch 233/250\n",
      "122/122 [==============================] - 0s 2ms/step - loss: 0.3971 - accuracy: 0.8539 - val_loss: 0.6061 - val_accuracy: 0.7863\n",
      "Epoch 234/250\n",
      "122/122 [==============================] - 0s 2ms/step - loss: 0.4550 - accuracy: 0.8292 - val_loss: 0.5694 - val_accuracy: 0.7786\n",
      "Epoch 235/250\n",
      "122/122 [==============================] - 0s 2ms/step - loss: 0.3995 - accuracy: 0.8456 - val_loss: 0.5767 - val_accuracy: 0.7939\n",
      "Epoch 236/250\n",
      "122/122 [==============================] - 0s 2ms/step - loss: 0.4143 - accuracy: 0.8391 - val_loss: 0.5288 - val_accuracy: 0.8092\n",
      "Epoch 237/250\n",
      "122/122 [==============================] - 0s 2ms/step - loss: 0.3917 - accuracy: 0.8440 - val_loss: 0.5984 - val_accuracy: 0.7863\n",
      "Epoch 238/250\n",
      "122/122 [==============================] - 0s 2ms/step - loss: 0.4066 - accuracy: 0.8342 - val_loss: 0.5917 - val_accuracy: 0.7863\n",
      "Epoch 239/250\n",
      "122/122 [==============================] - 0s 2ms/step - loss: 0.3989 - accuracy: 0.8424 - val_loss: 0.6440 - val_accuracy: 0.7634\n",
      "Epoch 240/250\n",
      "122/122 [==============================] - 0s 2ms/step - loss: 0.4474 - accuracy: 0.8407 - val_loss: 0.6311 - val_accuracy: 0.7863\n",
      "Epoch 241/250\n",
      "122/122 [==============================] - 0s 2ms/step - loss: 0.4313 - accuracy: 0.8407 - val_loss: 0.5884 - val_accuracy: 0.7786\n",
      "Epoch 242/250\n",
      "122/122 [==============================] - 0s 2ms/step - loss: 0.4181 - accuracy: 0.8489 - val_loss: 0.5694 - val_accuracy: 0.8053\n",
      "Epoch 243/250\n",
      "122/122 [==============================] - 0s 2ms/step - loss: 0.4387 - accuracy: 0.8342 - val_loss: 0.5283 - val_accuracy: 0.8092\n",
      "Epoch 244/250\n",
      "122/122 [==============================] - 0s 1ms/step - loss: 0.4120 - accuracy: 0.8374 - val_loss: 0.5526 - val_accuracy: 0.7939\n",
      "Epoch 245/250\n",
      "122/122 [==============================] - 0s 2ms/step - loss: 0.3890 - accuracy: 0.8539 - val_loss: 0.6002 - val_accuracy: 0.7901\n",
      "Epoch 246/250\n",
      "122/122 [==============================] - 0s 2ms/step - loss: 0.3802 - accuracy: 0.8571 - val_loss: 0.5266 - val_accuracy: 0.8206\n",
      "Epoch 247/250\n",
      "122/122 [==============================] - 0s 2ms/step - loss: 0.3816 - accuracy: 0.8539 - val_loss: 0.5658 - val_accuracy: 0.8053\n",
      "Epoch 248/250\n",
      "122/122 [==============================] - 0s 2ms/step - loss: 0.3938 - accuracy: 0.8571 - val_loss: 0.5444 - val_accuracy: 0.8015\n",
      "Epoch 249/250\n",
      "122/122 [==============================] - 0s 2ms/step - loss: 0.4145 - accuracy: 0.8374 - val_loss: 0.6110 - val_accuracy: 0.7901\n",
      "Epoch 250/250\n",
      "122/122 [==============================] - 0s 2ms/step - loss: 0.4158 - accuracy: 0.8506 - val_loss: 0.5106 - val_accuracy: 0.8282\n"
     ]
    },
    {
     "data": {
      "text/plain": [
       "<tensorflow.python.keras.callbacks.History at 0x21903496eb0>"
      ]
     },
     "execution_count": 104,
     "metadata": {},
     "output_type": "execute_result"
    }
   ],
   "source": [
    "machine=Sequential()\n",
    "machine.add(Dense(128,input_dim=3,activation=\"relu\"))\n",
    "machine.add(Dense(64,activation=\"relu\"))\n",
    "machine.add(Dense(32,activation=\"relu\"))\n",
    "machine.add(Dense(7,activation=\"softmax\"))\n",
    "machine.compile(loss=\"categorical_crossentropy\",optimizer=\"adam\",metrics=[\"accuracy\"])\n",
    "machine.fit(x_train,y_train,epochs=250,validation_data=(x_test,y_test),verbose=1,batch_size=5)\n"
   ]
  },
  {
   "cell_type": "code",
   "execution_count": 110,
   "metadata": {},
   "outputs": [
    {
     "name": "stdout",
     "output_type": "stream",
     "text": [
      "Model: \"sequential_28\"\n",
      "_________________________________________________________________\n",
      "Layer (type)                 Output Shape              Param #   \n",
      "=================================================================\n",
      "dense_112 (Dense)            (None, 128)               512       \n",
      "_________________________________________________________________\n",
      "dense_113 (Dense)            (None, 64)                8256      \n",
      "_________________________________________________________________\n",
      "dense_114 (Dense)            (None, 32)                2080      \n",
      "_________________________________________________________________\n",
      "dense_115 (Dense)            (None, 7)                 231       \n",
      "=================================================================\n",
      "Total params: 11,079\n",
      "Trainable params: 11,079\n",
      "Non-trainable params: 0\n",
      "_________________________________________________________________\n"
     ]
    }
   ],
   "source": [
    "\n",
    "machine.summary()"
   ]
  },
  {
   "cell_type": "code",
   "execution_count": 141,
   "metadata": {},
   "outputs": [
    {
     "data": {
      "text/plain": [
       "array([3, 5, 3, 5, 4, 1, 2, 1, 6, 6, 1, 5, 1, 6, 6, 3, 6, 4, 3, 3, 2, 3,\n",
       "       6, 3, 6, 5, 4, 1, 5, 4, 2, 6, 5, 4, 4, 6, 2, 6, 3, 5, 6, 6, 4, 6,\n",
       "       3, 6, 6, 5, 3, 5, 5, 3, 6, 2, 3, 5, 5, 4, 1, 5, 5, 5, 4, 5, 6, 5,\n",
       "       5, 5, 6, 6, 4, 6, 3, 4, 3, 3, 4, 6, 3, 6, 5, 5, 5, 5, 1, 6, 4, 2,\n",
       "       6, 5, 4, 2, 5, 5, 5, 2, 6, 1, 5, 5, 2, 3, 3, 6, 5, 5, 6, 5, 5, 3,\n",
       "       4, 4, 5, 5, 6, 1, 5, 4, 4, 6, 5, 5, 2, 4, 6, 4, 5, 3, 2, 3, 5, 4,\n",
       "       6, 2, 2, 5, 2, 5, 6, 6, 6, 1, 3, 5, 5, 6, 5, 6, 5, 4, 2, 5, 5, 5,\n",
       "       6, 5, 6, 6, 6, 3, 3, 6, 5, 4, 5, 5, 3, 2, 6, 6, 4, 5, 1, 6, 5, 3,\n",
       "       3, 5, 1, 3, 5, 5, 6, 4, 6, 6, 2, 3, 3, 2, 4, 2, 4, 4, 2, 6, 5, 5,\n",
       "       5, 4, 4, 6, 6, 5, 3, 5, 5, 3, 6, 6, 5, 6, 3, 5, 6, 2, 4, 6, 4, 4,\n",
       "       1, 4, 3, 6, 5, 5, 1, 3, 4, 4, 5, 1, 5, 6, 5, 6, 2, 6, 3, 6, 6, 5,\n",
       "       5, 4, 3, 5, 5, 4, 3, 3, 4, 3, 4, 6, 6, 2, 1, 6, 2, 6, 3, 2],\n",
       "      dtype=int64)"
      ]
     },
     "execution_count": 141,
     "metadata": {},
     "output_type": "execute_result"
    }
   ],
   "source": [
    "Prediction=machine.predict_classes(x_test)\n",
    "Prediction"
   ]
  },
  {
   "cell_type": "code",
   "execution_count": 111,
   "metadata": {},
   "outputs": [],
   "source": [
    "from sklearn.metrics import confusion_matrix,classification_report,accuracy_score\n"
   ]
  },
  {
   "cell_type": "code",
   "execution_count": 142,
   "metadata": {},
   "outputs": [
    {
     "data": {
      "text/plain": [
       "array([[11,  5,  0,  0,  7,  0],\n",
       "       [ 3, 20,  0,  0,  1,  4],\n",
       "       [ 0,  0, 39,  0,  7,  0],\n",
       "       [ 0,  0,  0, 37,  2,  3],\n",
       "       [ 1,  0,  2,  0, 56,  4],\n",
       "       [ 1,  0,  0,  3,  2, 54]], dtype=int64)"
      ]
     },
     "execution_count": 142,
     "metadata": {},
     "output_type": "execute_result"
    }
   ],
   "source": [
    "confusion_matrix(Y_test,Prediction)\n"
   ]
  },
  {
   "cell_type": "code",
   "execution_count": 207,
   "metadata": {},
   "outputs": [
    {
     "data": {
      "image/png": "[encoded data removed]",
      "text/plain": [
       "<Figure size 720x432 with 2 Axes>"
      ]
     },
     "metadata": {
      "needs_background": "light"
     },
     "output_type": "display_data"
    }
   ],
   "source": [
    "plt.figure(figsize=[10,6])\n",
    "plt.title(\"Confusion Matrix\",fontdict={\"weight\":\"bold\",\"size\":15})\n",
    "sn.heatmap(confusion_matrix(Y_test,Prediction,),cmap=plt.cm.Reds)\n",
    "plt.ylabel(\"Truth Label\",fontdict={\"weight\":\"bold\",\"size\":13},color=\"Black\")\n",
    "plt.xlabel(\"Prediction Label\",fontdict={\"weight\":\"bold\",\"size\":13},color=\"Black\")\n",
    "plt.gcf().axes[0].tick_params(color=\"white\")\n",
    "plt.show()"
   ]
  },
  {
   "cell_type": "code",
   "execution_count": 153,
   "metadata": {},
   "outputs": [
    {
     "name": "stdout",
     "output_type": "stream",
     "text": [
      "              precision    recall  f1-score   support\n",
      "\n",
      "           1       0.69      0.48      0.56        23\n",
      "           2       0.80      0.71      0.75        28\n",
      "           3       0.95      0.85      0.90        46\n",
      "           4       0.93      0.88      0.90        42\n",
      "           5       0.75      0.89      0.81        63\n",
      "           6       0.83      0.90      0.86        60\n",
      "\n",
      "    accuracy                           0.83       262\n",
      "   macro avg       0.82      0.79      0.80       262\n",
      "weighted avg       0.83      0.83      0.83       262\n",
      "\n"
     ]
    }
   ],
   "source": [
    "print(classification_report(Y_test,Prediction))"
   ]
  },
  {
   "cell_type": "code",
   "execution_count": 144,
   "metadata": {},
   "outputs": [
    {
     "data": {
      "text/plain": [
       "82.82442748091603"
      ]
     },
     "execution_count": 144,
     "metadata": {},
     "output_type": "execute_result"
    }
   ],
   "source": [
    "accuracy_score(Y_test,Prediction)*100"
   ]
  },
  {
   "cell_type": "markdown",
   "metadata": {},
   "source": [
    "# Prediction with whole data:"
   ]
  },
  {
   "cell_type": "code",
   "execution_count": 208,
   "metadata": {},
   "outputs": [],
   "source": [
    "Estimation=machine.predict_classes(x)"
   ]
  },
  {
   "cell_type": "code",
   "execution_count": 209,
   "metadata": {},
   "outputs": [
    {
     "data": {
      "text/plain": [
       "85.53386911595867"
      ]
     },
     "execution_count": 209,
     "metadata": {},
     "output_type": "execute_result"
    }
   ],
   "source": [
    "accuracy_score(y,Estimation)*100"
   ]
  },
  {
   "cell_type": "code",
   "execution_count": 210,
   "metadata": {},
   "outputs": [
    {
     "data": {
      "text/plain": [
       "array([[ 34,   9,   0,   0,  23,   6],\n",
       "       [  4,  77,   0,   0,   2,   6],\n",
       "       [  0,   0, 149,   0,  23,   0],\n",
       "       [  2,   0,   0, 130,   5,  14],\n",
       "       [  2,   0,   7,   0, 191,   7],\n",
       "       [  2,   0,   0,   8,   6, 164]], dtype=int64)"
      ]
     },
     "execution_count": 210,
     "metadata": {},
     "output_type": "execute_result"
    }
   ],
   "source": [
    "confusion_matrix(y,Estimation)"
   ]
  },
  {
   "cell_type": "code",
   "execution_count": 220,
   "metadata": {},
   "outputs": [
    {
     "data": {
      "image/png": "[encoded data removed]",
      "text/plain": [
       "<Figure size 720x432 with 2 Axes>"
      ]
     },
     "metadata": {
      "needs_background": "light"
     },
     "output_type": "display_data"
    }
   ],
   "source": [
    "plt.figure(figsize=[10,6])\n",
    "plt.title(\"Confusion Matrix\",fontdict={\"weight\":\"bold\",\"size\":15})\n",
    "sn.heatmap(confusion_matrix(y,Estimation,),cmap=plt.cm.afmhot)\n",
    "plt.ylabel(\"Truth Label\",fontdict={\"weight\":\"bold\",\"size\":13},color=\"Black\")\n",
    "plt.xlabel(\"Prediction Label\",fontdict={\"weight\":\"bold\",\"size\":13},color=\"Black\")\n",
    "plt.gcf().axes[0].tick_params(color=\"white\")\n",
    "plt.show()"
   ]
  },
  {
   "cell_type": "code",
   "execution_count": 211,
   "metadata": {},
   "outputs": [
    {
     "name": "stdout",
     "output_type": "stream",
     "text": [
      "              precision    recall  f1-score   support\n",
      "\n",
      "           1       0.77      0.47      0.59        72\n",
      "           2       0.90      0.87      0.88        89\n",
      "           3       0.96      0.87      0.91       172\n",
      "           4       0.94      0.86      0.90       151\n",
      "           5       0.76      0.92      0.84       207\n",
      "           6       0.83      0.91      0.87       180\n",
      "\n",
      "    accuracy                           0.86       871\n",
      "   macro avg       0.86      0.82      0.83       871\n",
      "weighted avg       0.86      0.86      0.85       871\n",
      "\n"
     ]
    }
   ],
   "source": [
    "print(classification_report(y,Estimation))"
   ]
  }
 ],
 "metadata": {
  "kernelspec": {
   "display_name": "Python 3",
   "language": "python",
   "name": "python3"
  },
  "language_info": {
   "codemirror_mode": {
    "name": "ipython",
    "version": 3
   },
   "file_extension": ".py",
   "mimetype": "text/x-python",
   "name": "python",
   "nbconvert_exporter": "python",
   "pygments_lexer": "ipython3",
   "version": "3.8.3"
  }
 },
 "nbformat": 4,
 "nbformat_minor": 4
}
